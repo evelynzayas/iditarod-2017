{
    "nbformat_minor": 1, 
    "cells": [
        {
            "source": "# \u201cThe Last Great Race on Earth\u00ae\u201d\n\n### Introduction\n\nThe Iditarod Trail, now a National Historic Trail, had its beginnings as a mail and supply route from the coastal towns of Seward and Knik to the interior mining camps at Flat, Ophir, Ruby and beyond to the west coast communities of Unalakleet, Elim, Golovin, White Mountain and Nome. Ranging over 1,000 miles from Anchorage, in south central Alaska, to Nome on the western Bering Sea coast. Mail and supplies went in. Gold came out. All via dog sled. In 1925, part of the Iditarod Trail became a life saving highway for epidemic-stricken Nome. Diphtheria threatened and serum had to be brought in; again by intrepid dog mushers and their faithful hard-driving dogs.  Throughout the years, the sled dogs were important to day to day life in the villages and throughout Alaska.  \n\nThe first Iditarod race to Nome started March 3, 1973. Every year, men and women dog sled teams battle the harsh Alaskan elements in the \u201cLast Great Race on Earth\u00ae\u201d. The race route is alternated every year, one year going north through Cripple, Ruby and Galena, the next year south through Iditarod, Shageluk, Anvik. \n\nVisit <a href=\"https://iditarod.com/\">the Iditarod website</a> for more delightful information about The Last Great Race!", 
            "cell_type": "markdown", 
            "metadata": {
                "collapsed": true
            }
        }, 
        {
            "source": "For this project, facts and figures about the 2017 Iditarod Race will be analyzed and visualized to answer questions such as:\n<ul>\n    <li>Which dog sled teams had the highest average speeds during the race? </li>\n    <li>Did veteran teams outpace rookie teams?</li>\n    <li>What were the average times between the checkpoints along the trail?</li>\n    <li>Did the number of dogs per team impact their speed?</li>\n     </ul>\n     \nAnswers to these questions are vitally important to the mushers who spend an entire year getting ready and raising the money needed to get to Nome. Some prepare around a full-time job. In addition to planning the equipment and feeding needs for themselves and their 16-dog teams for up to three weeks on the trail, hundreds of hours and hundreds of miles of training have to be put on each dog team. ", 
            "cell_type": "markdown", 
            "metadata": {}
        }, 
        {
            "source": "### Data\n\nThe dataset for this analysis was retrieved from Kaggle at: https://www.kaggle.com/iditarod/iditarod-race\nIt includes the musher's name, number and country, checkpoint name and location, distance in miles from the last checkpoint, time from departure at the last checkpoint, date and time of arrival and departure, layover time at the checkpoint, and the number of dogs at arrival and departure at each checkpoint.\n", 
            "cell_type": "markdown", 
            "metadata": {}
        }, 
        {
            "execution_count": null, 
            "cell_type": "code", 
            "metadata": {}, 
            "outputs": [], 
            "source": ""
        }
    ], 
    "metadata": {
        "kernelspec": {
            "display_name": "Python 3.5", 
            "name": "python3", 
            "language": "python"
        }, 
        "language_info": {
            "mimetype": "text/x-python", 
            "nbconvert_exporter": "python", 
            "version": "3.5.5", 
            "name": "python", 
            "file_extension": ".py", 
            "pygments_lexer": "ipython3", 
            "codemirror_mode": {
                "version": 3, 
                "name": "ipython"
            }
        }
    }, 
    "nbformat": 4
}